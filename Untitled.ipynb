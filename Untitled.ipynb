{
 "cells": [
  {
   "cell_type": "code",
   "execution_count": 1,
   "id": "e39c3d4b-2bb1-4a00-bc08-b21cba4f3419",
   "metadata": {
    "ExecuteTime": {
     "end_time": "2024-08-30T13:48:39.257630500Z",
     "start_time": "2024-08-30T13:48:39.230867600Z"
    }
   },
   "outputs": [
    {
     "name": "stdout",
     "output_type": "stream",
     "text": [
      "hi\n"
     ]
    }
   ],
   "source": [
    "print('hi')"
   ]
  },
  {
   "cell_type": "code",
   "execution_count": 2,
   "outputs": [
    {
     "data": {
      "text/plain": "3"
     },
     "execution_count": 2,
     "metadata": {},
     "output_type": "execute_result"
    }
   ],
   "source": [
    "3"
   ],
   "metadata": {
    "collapsed": false,
    "ExecuteTime": {
     "end_time": "2024-08-30T13:48:49.682759600Z",
     "start_time": "2024-08-30T13:48:49.665767600Z"
    }
   },
   "id": "97a19279a0e0964a"
  },
  {
   "cell_type": "code",
   "execution_count": 1,
   "outputs": [
    {
     "data": {
      "text/plain": "4"
     },
     "execution_count": 1,
     "metadata": {},
     "output_type": "execute_result"
    }
   ],
   "source": [
    "4"
   ],
   "metadata": {
    "collapsed": false,
    "ExecuteTime": {
     "end_time": "2024-08-30T13:49:18.155768700Z",
     "start_time": "2024-08-30T13:49:18.139638100Z"
    }
   },
   "id": "22af807200ac3f33"
  },
  {
   "cell_type": "markdown",
   "source": [
    "## Hi"
   ],
   "metadata": {
    "collapsed": false
   },
   "id": "ad12f191d4835ec3"
  },
  {
   "cell_type": "code",
   "execution_count": null,
   "outputs": [],
   "source": [],
   "metadata": {
    "collapsed": false
   },
   "id": "f7764d12e533a77a"
  }
 ],
 "metadata": {
  "kernelspec": {
   "name": "test1",
   "language": "python",
   "display_name": "Python (test1)"
  },
  "language_info": {
   "name": ""
  }
 },
 "nbformat": 4,
 "nbformat_minor": 5
}
